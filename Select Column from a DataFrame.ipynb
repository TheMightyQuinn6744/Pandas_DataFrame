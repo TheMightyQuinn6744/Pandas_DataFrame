{
 "cells": [
  {
   "cell_type": "code",
   "execution_count": 2,
   "id": "171b1184",
   "metadata": {},
   "outputs": [],
   "source": [
    "#import from pandas as pd\n",
    "import pandas as pd"
   ]
  },
  {
   "cell_type": "code",
   "execution_count": 5,
   "id": "1af80f19",
   "metadata": {},
   "outputs": [
    {
     "data": {
      "text/html": [
       "<div>\n",
       "<style scoped>\n",
       "    .dataframe tbody tr th:only-of-type {\n",
       "        vertical-align: middle;\n",
       "    }\n",
       "\n",
       "    .dataframe tbody tr th {\n",
       "        vertical-align: top;\n",
       "    }\n",
       "\n",
       "    .dataframe thead th {\n",
       "        text-align: right;\n",
       "    }\n",
       "</style>\n",
       "<table border=\"1\" class=\"dataframe\">\n",
       "  <thead>\n",
       "    <tr style=\"text-align: right;\">\n",
       "      <th></th>\n",
       "      <th>Name</th>\n",
       "      <th>Operator</th>\n",
       "      <th>Year</th>\n",
       "      <th>Tonnage</th>\n",
       "    </tr>\n",
       "  </thead>\n",
       "  <tbody>\n",
       "    <tr>\n",
       "      <th>0</th>\n",
       "      <td>Adonia</td>\n",
       "      <td>Azamara</td>\n",
       "      <td>2001</td>\n",
       "      <td>30,277</td>\n",
       "    </tr>\n",
       "    <tr>\n",
       "      <th>1</th>\n",
       "      <td>Adriana</td>\n",
       "      <td>Adriana Shipping</td>\n",
       "      <td>1972</td>\n",
       "      <td>4,490</td>\n",
       "    </tr>\n",
       "    <tr>\n",
       "      <th>2</th>\n",
       "      <td>Adventure of the Seas</td>\n",
       "      <td>Royal Caribbean International</td>\n",
       "      <td>2001</td>\n",
       "      <td>137,276</td>\n",
       "    </tr>\n",
       "    <tr>\n",
       "      <th>3</th>\n",
       "      <td>Aegean Goddess</td>\n",
       "      <td>Cruise &amp; Maritime Voyages</td>\n",
       "      <td>1994</td>\n",
       "      <td>55,819</td>\n",
       "    </tr>\n",
       "    <tr>\n",
       "      <th>4</th>\n",
       "      <td>Aegean Majesty</td>\n",
       "      <td>Optimum Shipmanagement Service</td>\n",
       "      <td>1996</td>\n",
       "      <td>55,451</td>\n",
       "    </tr>\n",
       "  </tbody>\n",
       "</table>\n",
       "</div>"
      ],
      "text/plain": [
       "                    Name                        Operator  Year  Tonnage\n",
       "0                 Adonia                         Azamara  2001   30,277\n",
       "1                Adriana                Adriana Shipping  1972    4,490\n",
       "2  Adventure of the Seas   Royal Caribbean International  2001  137,276\n",
       "3         Aegean Goddess       Cruise & Maritime Voyages  1994   55,819\n",
       "4         Aegean Majesty  Optimum Shipmanagement Service  1996   55,451"
      ]
     },
     "execution_count": 5,
     "metadata": {},
     "output_type": "execute_result"
    }
   ],
   "source": [
    "#Assign the data in Cruise Ships \n",
    "cruise_ships = pd.read_csv(\"cruise_ships.csv\")\n",
    "cruise_ships.head()"
   ]
  },
  {
   "cell_type": "code",
   "execution_count": 7,
   "id": "2a9ef992",
   "metadata": {},
   "outputs": [
    {
     "data": {
      "text/plain": [
       "0                           Azamara\n",
       "1                  Adriana Shipping\n",
       "2     Royal Caribbean International\n",
       "3         Cruise & Maritime Voyages\n",
       "4    Optimum Shipmanagement Service\n",
       "Name: Operator, dtype: object"
      ]
     },
     "execution_count": 7,
     "metadata": {},
     "output_type": "execute_result"
    }
   ],
   "source": [
    "#Selec the operators column from Cruise Ships\n",
    "operators = cruise_ships[\"Operator\"]\n",
    "operators.head()"
   ]
  },
  {
   "cell_type": "code",
   "execution_count": 9,
   "id": "f159fd4e",
   "metadata": {},
   "outputs": [
    {
     "data": {
      "text/plain": [
       "0     30,277\n",
       "1      4,490\n",
       "2    137,276\n",
       "3     55,819\n",
       "4     55,451\n",
       "Name: Tonnage, dtype: object"
      ]
     },
     "execution_count": 9,
     "metadata": {},
     "output_type": "execute_result"
    }
   ],
   "source": [
    "#Select the tonnages column from Tonnages\n",
    "tonnages = cruise_ships[\"Tonnage\"]\n",
    "tonnages.head()"
   ]
  },
  {
   "cell_type": "code",
   "execution_count": 13,
   "id": "0f719700",
   "metadata": {},
   "outputs": [
    {
     "data": {
      "text/plain": [
       "0                   Adonia\n",
       "1                  Adriana\n",
       "2    Adventure of the Seas\n",
       "3           Aegean Goddess\n",
       "4           Aegean Majesty\n",
       "Name: Name, dtype: object"
      ]
     },
     "execution_count": 13,
     "metadata": {},
     "output_type": "execute_result"
    }
   ],
   "source": [
    "#Select the Name column from Cruise Ships\n",
    "cruise_names = cruise_ships[\"Name\"]\n",
    "cruise_names.head()"
   ]
  },
  {
   "cell_type": "code",
   "execution_count": null,
   "id": "e1905d85",
   "metadata": {},
   "outputs": [],
   "source": []
  }
 ],
 "metadata": {
  "kernelspec": {
   "display_name": "Python 3 (ipykernel)",
   "language": "python",
   "name": "python3"
  },
  "language_info": {
   "codemirror_mode": {
    "name": "ipython",
    "version": 3
   },
   "file_extension": ".py",
   "mimetype": "text/x-python",
   "name": "python",
   "nbconvert_exporter": "python",
   "pygments_lexer": "ipython3",
   "version": "3.10.4"
  }
 },
 "nbformat": 4,
 "nbformat_minor": 5
}
